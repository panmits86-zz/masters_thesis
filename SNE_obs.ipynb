{
 "cells": [
  {
   "cell_type": "code",
   "execution_count": 1,
   "metadata": {},
   "outputs": [
    {
     "name": "stderr",
     "output_type": "stream",
     "text": [
      "FAILURE:\n",
      "Unable to open datasource `Downloads/gshhg-shp-2.3.7/GSHHS_shp/f/GSHHS_f_L1_SNE.shp' with the following drivers.\n",
      "  -> `PCIDSK'\n",
      "  -> `netCDF'\n",
      "  -> `JP2OpenJPEG'\n",
      "  -> `PDF'\n",
      "  -> `MBTiles'\n",
      "  -> `EEDA'\n",
      "  -> `DB2ODBC'\n",
      "  -> `ESRI Shapefile'\n",
      "  -> `MapInfo File'\n",
      "  -> `UK .NTF'\n",
      "  -> `OGR_SDTS'\n",
      "  -> `S57'\n",
      "  -> `DGN'\n",
      "  -> `OGR_VRT'\n",
      "  -> `REC'\n",
      "  -> `Memory'\n",
      "  -> `BNA'\n",
      "  -> `CSV'\n",
      "  -> `NAS'\n",
      "  -> `GML'\n",
      "  -> `GPX'\n",
      "  -> `KML'\n",
      "  -> `GeoJSON'\n",
      "  -> `GeoJSONSeq'\n",
      "  -> `ESRIJSON'\n",
      "  -> `TopoJSON'\n",
      "  -> `OGR_GMT'\n",
      "  -> `GPKG'\n",
      "  -> `SQLite'\n",
      "  -> `ODBC'\n",
      "  -> `WAsP'\n",
      "  -> `PGeo'\n",
      "  -> `MSSQLSpatial'\n",
      "  -> `PostgreSQL'\n",
      "  -> `OpenFileGDB'\n",
      "  -> `XPlane'\n",
      "  -> `DXF'\n",
      "  -> `CAD'\n",
      "  -> `Geoconcept'\n",
      "  -> `GeoRSS'\n",
      "  -> `GPSTrackMaker'\n",
      "  -> `VFK'\n",
      "  -> `PGDUMP'\n",
      "  -> `OSM'\n",
      "  -> `GPSBabel'\n",
      "  -> `SUA'\n",
      "  -> `OpenAir'\n",
      "  -> `OGR_PDS'\n",
      "  -> `WFS'\n",
      "  -> `WFS3'\n",
      "  -> `HTF'\n",
      "  -> `AeronavFAA'\n",
      "  -> `Geomedia'\n",
      "  -> `EDIGEO'\n",
      "  -> `GFT'\n",
      "  -> `SVG'\n",
      "  -> `CouchDB'\n",
      "  -> `Cloudant'\n",
      "  -> `Idrisi'\n",
      "  -> `ARCGEN'\n",
      "  -> `SEGUKOOA'\n",
      "  -> `SEGY'\n",
      "  -> `XLS'\n",
      "  -> `ODS'\n",
      "  -> `XLSX'\n",
      "  -> `ElasticSearch'\n",
      "  -> `Walk'\n",
      "  -> `Carto'\n",
      "  -> `AmigoCloud'\n",
      "  -> `SXF'\n",
      "  -> `Selafin'\n",
      "  -> `JML'\n",
      "  -> `PLSCENES'\n",
      "  -> `CSW'\n",
      "  -> `VDV'\n",
      "  -> `GMLAS'\n",
      "  -> `MVT'\n",
      "  -> `TIGER'\n",
      "  -> `AVCBin'\n",
      "  -> `AVCE00'\n",
      "  -> `NGW'\n",
      "  -> `HTTP'\n"
     ]
    }
   ],
   "source": [
    "# Download coastlines shapefile from: https://www.ngdc.noaa.gov/mgg/shorelines/data/gshhg/latest/\n",
    "# Cut the domain of interest from the full resolution shapefile\n",
    "!ogr2ogr -f 'ESRI Shapefile' Downloads/gshhg-shp-2.3.7/GSHHS_shp/f/GSHHS_f_L1_SNE.shp Downloads/gshhg-shp-2.3.7/GSHHS_shp/f/GSHHS_f_L1.shp -clipsrc -74 -70 40 42"
   ]
  },
  {
   "cell_type": "code",
   "execution_count": 2,
   "metadata": {},
   "outputs": [],
   "source": [
    "import numpy as np\n",
    "from datetime import datetime\n",
    "import xarray as xr\n",
    "\n",
    "import cartopy.crs as ccrs\n",
    "import cartopy.feature as cfeature\n",
    "import matplotlib.pyplot as plt\n",
    "import matplotlib.ticker as mticker\n",
    "import matplotlib.patches as mpatch\n",
    "from matplotlib.transforms import offset_copy\n",
    "from cartopy.io import shapereader\n",
    "from cartopy.mpl.gridliner import LONGITUDE_FORMATTER, LATITUDE_FORMATTER\n",
    "import pandas as pd\n",
    "\n",
    "import gdal\n",
    "\n",
    "%matplotlib inline"
   ]
  },
  {
   "cell_type": "code",
   "execution_count": 19,
   "metadata": {},
   "outputs": [
    {
     "name": "stderr",
     "output_type": "stream",
     "text": [
      "C:\\Users\\panmits86\\Anaconda3\\envs\\gallery\\lib\\site-packages\\ipykernel_launcher.py:1: FutureWarning: In xarray version 0.14 the default behaviour of `open_mfdataset`\n",
      "will change. To retain the existing behavior, pass\n",
      "combine='nested'. To use future default behavior, pass\n",
      "combine='by_coords'. See\n",
      "http://xarray.pydata.org/en/stable/combining.html#combining-multi\n",
      "\n",
      "  \"\"\"Entry point for launching an IPython kernel.\n",
      "C:\\Users\\panmits86\\Anaconda3\\envs\\gallery\\lib\\site-packages\\xarray\\backends\\api.py:934: FutureWarning: The datasets supplied have global dimension coordinates. You may want\n",
      "to use the new `combine_by_coords` function (or the\n",
      "`combine='by_coords'` option to `open_mfdataset`) to order the datasets\n",
      "before concatenation. Alternatively, to continue concatenating based\n",
      "on the order the datasets are supplied in future, please use the new\n",
      "`combine_nested` function (or the `combine='nested'` option to\n",
      "open_mfdataset).\n",
      "  from_openmfds=True,\n"
     ]
    }
   ],
   "source": [
    "ds2 = xr.open_mfdataset('C:/Users/panmits86/Desktop/Python/data/JASON_3/IGDR/2018_Q1/JA3_IPN_2PdP*.nc')"
   ]
  },
  {
   "cell_type": "code",
   "execution_count": 20,
   "metadata": {},
   "outputs": [
    {
     "name": "stderr",
     "output_type": "stream",
     "text": [
      "C:\\Users\\panmits86\\Anaconda3\\envs\\gallery\\lib\\site-packages\\ipykernel_launcher.py:1: FutureWarning: In xarray version 0.14 the default behaviour of `open_mfdataset`\n",
      "will change. To retain the existing behavior, pass\n",
      "combine='nested'. To use future default behavior, pass\n",
      "combine='by_coords'. See\n",
      "http://xarray.pydata.org/en/stable/combining.html#combining-multi\n",
      "\n",
      "  \"\"\"Entry point for launching an IPython kernel.\n",
      "C:\\Users\\panmits86\\Anaconda3\\envs\\gallery\\lib\\site-packages\\xarray\\backends\\api.py:934: FutureWarning: The datasets supplied have global dimension coordinates. You may want\n",
      "to use the new `combine_by_coords` function (or the\n",
      "`combine='by_coords'` option to `open_mfdataset`) to order the datasets\n",
      "before concatenation. Alternatively, to continue concatenating based\n",
      "on the order the datasets are supplied in future, please use the new\n",
      "`combine_nested` function (or the `combine='nested'` option to\n",
      "open_mfdataset).\n",
      "  from_openmfds=True,\n"
     ]
    }
   ],
   "source": [
    "ds1 = xr.open_mfdataset('C:/Users/panmits86/Desktop/Python/data/SARAL-AltiKa/IGDR/2018_Q1/SRL_IPN_2PTP1*.nc')"
   ]
  },
  {
   "cell_type": "code",
   "execution_count": 21,
   "metadata": {},
   "outputs": [],
   "source": [
    "wave_heights_ja = ds2['swh_ku']"
   ]
  },
  {
   "cell_type": "code",
   "execution_count": 22,
   "metadata": {},
   "outputs": [],
   "source": [
    "wave_heights_sa = ds1['swh']"
   ]
  },
  {
   "cell_type": "code",
   "execution_count": 23,
   "metadata": {},
   "outputs": [
    {
     "data": {
      "text/plain": [
       "<xarray.DataArray 'swh' (time: 934)>\n",
       "dask.array<concatenate, shape=(934,), dtype=float32, chunksize=(33,), chunktype=numpy.ndarray>\n",
       "Coordinates:\n",
       "    lat      (time) float64 dask.array<chunksize=(33,), meta=np.ndarray>\n",
       "    lon      (time) float64 dask.array<chunksize=(33,), meta=np.ndarray>\n",
       "  * time     (time) datetime64[ns] 2018-01-03T10:23:38.547059072 ... 2018-03-31T10:10:45.787596224\n",
       "Attributes:\n",
       "    comment:        All instrumental corrections included, i.e. modeled instr...\n",
       "    long_name:      Corrected significant waveheight\n",
       "    quality_flag:   qual_alt_1hz_swh\n",
       "    standard_name:  sea_surface_wave_significant_height\n",
       "    units:          m"
      ]
     },
     "execution_count": 23,
     "metadata": {},
     "output_type": "execute_result"
    }
   ],
   "source": [
    "wave_heights_sa"
   ]
  },
  {
   "cell_type": "code",
   "execution_count": 6,
   "metadata": {},
   "outputs": [
    {
     "data": {
      "text/plain": [
       "<xarray.DataArray 'qual_alt_1hz_swh' (time: 894)>\n",
       "dask.array<concatenate, shape=(894,), dtype=float32, chunksize=(33,), chunktype=numpy.ndarray>\n",
       "Coordinates:\n",
       "    lat      (time) float64 dask.array<chunksize=(32,), meta=np.ndarray>\n",
       "    lon      (time) float64 dask.array<chunksize=(32,), meta=np.ndarray>\n",
       "  * time     (time) datetime64[ns] 2019-01-02T23:19:26.735101184 ... 2019-03-31T10:21:39.629331072\n",
       "Attributes:\n",
       "    flag_meanings:  good bad\n",
       "    flag_values:    [0 1]\n",
       "    long_name:      quality flag for 1 Hz altimeter data: SWH"
      ]
     },
     "execution_count": 6,
     "metadata": {},
     "output_type": "execute_result"
    }
   ],
   "source": [
    "qual_co_sa = ds1['qual_alt_1hz_swh']\n",
    "qual_co_sa"
   ]
  },
  {
   "cell_type": "code",
   "execution_count": 24,
   "metadata": {},
   "outputs": [
    {
     "data": {
      "text/plain": [
       "<xarray.DataArray 'surface_type' (time: 934)>\n",
       "dask.array<concatenate, shape=(934,), dtype=float32, chunksize=(33,), chunktype=numpy.ndarray>\n",
       "Coordinates:\n",
       "    lat      (time) float64 dask.array<chunksize=(33,), meta=np.ndarray>\n",
       "    lon      (time) float64 dask.array<chunksize=(33,), meta=np.ndarray>\n",
       "  * time     (time) datetime64[ns] 2018-01-03T10:23:38.547059072 ... 2018-03-31T10:10:45.787596224\n",
       "Attributes:\n",
       "    comment:        Computed using a DTM2000 file: 0 = open oceans or semi-en...\n",
       "    flag_meanings:  ocean lake_enclosed_sea ice land\n",
       "    flag_values:    [0 1 2 3]\n",
       "    long_name:      surface type"
      ]
     },
     "execution_count": 24,
     "metadata": {},
     "output_type": "execute_result"
    }
   ],
   "source": [
    "surface_type_sa = ds1['surface_type']\n",
    "surface_type_sa"
   ]
  },
  {
   "cell_type": "code",
   "execution_count": 25,
   "metadata": {},
   "outputs": [
    {
     "data": {
      "text/plain": [
       "<xarray.DataArray 'surface_type' (time: 1392)>\n",
       "dask.array<concatenate, shape=(1392,), dtype=float32, chunksize=(44,), chunktype=numpy.ndarray>\n",
       "Coordinates:\n",
       "    lat      (time) float64 dask.array<chunksize=(43,), meta=np.ndarray>\n",
       "    lon      (time) float64 dask.array<chunksize=(43,), meta=np.ndarray>\n",
       "  * time     (time) datetime64[ns] 2018-01-01T04:14:35.975542080 ... 2018-03-31T10:02:01.227417024\n",
       "Attributes:\n",
       "    comment:        Computed using a DTM2000 file: 0 = open oceans or semi-en...\n",
       "    flag_meanings:  ocean lake_enclosed_sea ice land\n",
       "    flag_values:    [0 1 2 3]\n",
       "    long_name:      surface type"
      ]
     },
     "execution_count": 25,
     "metadata": {},
     "output_type": "execute_result"
    }
   ],
   "source": [
    "surface_type_ja = ds2['surface_type']\n",
    "surface_type_ja"
   ]
  },
  {
   "cell_type": "code",
   "execution_count": 26,
   "metadata": {},
   "outputs": [
    {
     "data": {
      "text/plain": [
       "<xarray.DataArray 'swh_ku' (time: 816)>\n",
       "dask.array<getitem, shape=(816,), dtype=float32, chunksize=(36,), chunktype=numpy.ndarray>\n",
       "Coordinates:\n",
       "    lat      (time) float64 dask.array<chunksize=(36,), meta=np.ndarray>\n",
       "    lon      (time) float64 dask.array<chunksize=(36,), meta=np.ndarray>\n",
       "  * time     (time) datetime64[ns] 2018-01-01T04:14:35.975542080 ... 2018-03-31T10:02:01.227417024\n",
       "Attributes:\n",
       "    comment:        All instrumental corrections included, i.e. modeled instr...\n",
       "    long_name:      Ku band corrected significant waveheight\n",
       "    quality_flag:   qual_alt_1hz_swh_ku\n",
       "    standard_name:  sea_surface_wave_significant_height\n",
       "    units:          m"
      ]
     },
     "execution_count": 26,
     "metadata": {},
     "output_type": "execute_result"
    }
   ],
   "source": [
    "# apply a surface type flag. type 3 = land, type 0 = ocean.\n",
    "wh_ja = wave_heights_ja[surface_type_ja < 1.]\n",
    "wh_ja"
   ]
  },
  {
   "cell_type": "code",
   "execution_count": 27,
   "metadata": {},
   "outputs": [
    {
     "data": {
      "text/plain": [
       "<xarray.DataArray 'swh' (time: 590)>\n",
       "dask.array<getitem, shape=(590,), dtype=float32, chunksize=(30,), chunktype=numpy.ndarray>\n",
       "Coordinates:\n",
       "    lat      (time) float64 dask.array<chunksize=(13,), meta=np.ndarray>\n",
       "    lon      (time) float64 dask.array<chunksize=(13,), meta=np.ndarray>\n",
       "  * time     (time) datetime64[ns] 2018-01-03T10:23:38.547059072 ... 2018-03-31T10:10:45.787596224\n",
       "Attributes:\n",
       "    comment:        All instrumental corrections included, i.e. modeled instr...\n",
       "    long_name:      Corrected significant waveheight\n",
       "    quality_flag:   qual_alt_1hz_swh\n",
       "    standard_name:  sea_surface_wave_significant_height\n",
       "    units:          m"
      ]
     },
     "execution_count": 27,
     "metadata": {},
     "output_type": "execute_result"
    }
   ],
   "source": [
    "wh_sa = wave_heights_sa[surface_type_sa < 3.]\n",
    "wh_sa"
   ]
  },
  {
   "cell_type": "code",
   "execution_count": 28,
   "metadata": {},
   "outputs": [],
   "source": [
    "buoys = pd.read_excel('buoys.xlsx', header=0, index_col=None, usecols=\"D:E\")"
   ]
  },
  {
   "cell_type": "code",
   "execution_count": 29,
   "metadata": {},
   "outputs": [],
   "source": [
    "def make_map(projection=ccrs.PlateCarree()):\n",
    "    fig, ax = plt.subplots(figsize=(9, 13),\n",
    "                           subplot_kw=dict(projection=projection))\n",
    "    gl = ax.gridlines(draw_labels=True, linestyle='--')\n",
    "    gl.xlabels_top = False\n",
    "    gl.xlocator = mticker.FixedLocator([-74, -73, -72, -71, -70])\n",
    "    gl.ylocator = mticker.FixedLocator([40, 41, 42])\n",
    "    gl.xformatter = LONGITUDE_FORMATTER\n",
    "    gl.yformatter = LATITUDE_FORMATTER\n",
    "    return fig, ax"
   ]
  },
  {
   "cell_type": "code",
   "execution_count": 33,
   "metadata": {},
   "outputs": [
    {
     "data": {
      "image/png": "[encoded data removed]",
      "text/plain": [
       "<Figure size 648x936 with 1 Axes>"
      ]
     },
     "metadata": {
      "needs_background": "light"
     },
     "output_type": "display_data"
    }
   ],
   "source": [
    "fig, ax = make_map(projection=ccrs.PlateCarree())\n",
    "ax.set_extent([-74, -70, 40, 42])\n",
    "\n",
    "shp = shapereader.Reader('C:/Users/panmits86/Desktop/Python/SNE_shapefile/GSHHS_f_L1_SNE.shp')\n",
    "for record, geometry in zip(shp.records(), shp.geometries()):\n",
    "    ax.add_geometries([geometry], ccrs.PlateCarree(), facecolor='gray')\n",
    "\n",
    "# Add markers for the position of the buoys and satellite observations for the 1st quarter of 2017.\n",
    "plt.scatter(wh_ja['lon'], wh_ja['lat'], s=3, marker='o', color='red', label='Jason-3',\n",
    "             transform=ccrs.Geodetic())\n",
    "plt.scatter(wh_sa['lon'], wh_sa['lat'], s=3, marker='o', color='blue', label='SARAL-AltiKa',\n",
    "            transform=ccrs.Geodetic())\n",
    "plt.scatter(buoys['Longitude'], buoys['Latitude'], s=10, marker='s', color='green', label='Buoys',\n",
    "            transform=ccrs.Geodetic())\n",
    "ax.legend(loc='upper left')\n",
    "ax.set_title('Map of observations for the 1st quarter of 2018')\n",
    "plt.savefig('SNE_obs.png', dpi=300, bbox_inches='tight')"
   ]
  },
  {
   "cell_type": "code",
   "execution_count": 11,
   "metadata": {},
   "outputs": [
    {
     "data": {
      "text/plain": [
       "<Figure size 432x288 with 0 Axes>"
      ]
     },
     "metadata": {},
     "output_type": "display_data"
    }
   ],
   "source": [
    "plt.savefig('SNE_obs.png', dpi=300, bbox_inches='tight')\n",
    "edgecolor='black'"
   ]
  }
 ],
 "metadata": {
  "kernelspec": {
   "display_name": "Python 3",
   "language": "python",
   "name": "python3"
  },
  "language_info": {
   "codemirror_mode": {
    "name": "ipython",
    "version": 3
   },
   "file_extension": ".py",
   "mimetype": "text/x-python",
   "name": "python",
   "nbconvert_exporter": "python",
   "pygments_lexer": "ipython3",
   "version": "3.7.3"
  }
 },
 "nbformat": 4,
 "nbformat_minor": 4
}
