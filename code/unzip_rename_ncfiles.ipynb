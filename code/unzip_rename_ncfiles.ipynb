{
 "cells": [
  {
   "cell_type": "code",
   "execution_count": 35,
   "metadata": {},
   "outputs": [],
   "source": [
    "from zipfile import ZipFile\n",
    "from pathlib import Path\n",
    "import os,sys\n",
    "import shutil"
   ]
  },
  {
   "cell_type": "code",
   "execution_count": 44,
   "metadata": {},
   "outputs": [],
   "source": [
    "p = Path('Sentinel3/S3A_all')"
   ]
  },
  {
   "cell_type": "code",
   "execution_count": null,
   "metadata": {},
   "outputs": [],
   "source": [
    "for fname in p.glob('*.zip'):\n",
    "    with ZipFile(fname, 'r') as zip_ref:\n",
    "        zip_ref.extractall('Sentinel3/S3A_all')\n",
    "        zip_ref.close()\n",
    "        del zip_ref\n",
    "        os.unlink(fname)"
   ]
  },
  {
   "cell_type": "code",
   "execution_count": 43,
   "metadata": {},
   "outputs": [],
   "source": [
    "for root, dirs, files in os.walk(p):\n",
    "    for file in files:\n",
    "        if file == \"standard_measurement.nc\":\n",
    "            spl = root.split(\"/\"); newname = spl[-1]; sup = (\"/\").join(spl[:-1])\n",
    "            shutil.move(root+\"/\"+file, sup+\"/\"+newname+\".nc\"); shutil.rmtree(root)"
   ]
  },
  {
   "cell_type": "code",
   "execution_count": null,
   "metadata": {},
   "outputs": [],
   "source": []
  }
 ],
 "metadata": {
  "kernelspec": {
   "display_name": "Python 3",
   "language": "python",
   "name": "python3"
  },
  "language_info": {
   "codemirror_mode": {
    "name": "ipython",
    "version": 3
   },
   "file_extension": ".py",
   "mimetype": "text/x-python",
   "name": "python",
   "nbconvert_exporter": "python",
   "pygments_lexer": "ipython3",
   "version": "3.6.7"
  }
 },
 "nbformat": 4,
 "nbformat_minor": 4
}
