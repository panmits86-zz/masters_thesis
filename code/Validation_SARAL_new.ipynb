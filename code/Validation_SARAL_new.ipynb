{
 "cells": [
  {
   "cell_type": "code",
   "execution_count": 1,
   "metadata": {},
   "outputs": [
    {
     "name": "stderr",
     "output_type": "stream",
     "text": [
      "C:\\Users\\panmits86\\Anaconda3\\envs\\thesis\\lib\\site-packages\\windrose\\windrose.py:29: MatplotlibDeprecationWarning: \n",
      "The Appender class was deprecated in Matplotlib 3.1 and will be removed in 3.3.\n",
      "  addendum = docstring.Appender(msg, \"\\n\\n\")\n",
      "C:\\Users\\panmits86\\Anaconda3\\envs\\thesis\\lib\\site-packages\\windrose\\windrose.py:30: MatplotlibDeprecationWarning: \n",
      "The copy_dedent function was deprecated in Matplotlib 3.1 and will be removed in 3.3. Use docstring.copy() and cbook.dedent() instead.\n",
      "  return lambda func: addendum(docstring.copy_dedent(base)(func))\n",
      "C:\\Users\\panmits86\\Anaconda3\\envs\\thesis\\lib\\site-packages\\windrose\\windrose.py:30: MatplotlibDeprecationWarning: \n",
      "The dedent function was deprecated in Matplotlib 3.1 and will be removed in 3.3. Use inspect.getdoc() instead.\n",
      "  return lambda func: addendum(docstring.copy_dedent(base)(func))\n",
      "C:\\Users\\panmits86\\Anaconda3\\envs\\thesis\\lib\\site-packages\\windrose\\windrose.py:30: MatplotlibDeprecationWarning: \n",
      "The dedent function was deprecated in Matplotlib 3.1 and will be removed in 3.3. Use inspect.cleandoc instead.\n",
      "  return lambda func: addendum(docstring.copy_dedent(base)(func))\n"
     ]
    }
   ],
   "source": [
    "#data manipulation\n",
    "from pathlib import Path\n",
    "import numpy as np\n",
    "from numpy import percentile\n",
    "from datetime import datetime, timedelta\n",
    "import xarray as xr\n",
    "import pandas as pd\n",
    "import glob\n",
    "import statsmodels.api as sm\n",
    "from statsmodels.sandbox.regression.predstd import wls_prediction_std\n",
    "from sklearn.model_selection import train_test_split \n",
    "from sklearn.linear_model import LinearRegression\n",
    "from sklearn import metrics\n",
    "from sklearn.metrics import r2_score, mean_squared_error\n",
    "from sklearn.model_selection import cross_val_score, cross_validate\n",
    "from sklearn.preprocessing import PolynomialFeatures\n",
    "from sklearn.pipeline import make_pipeline\n",
    "\n",
    "from math import sqrt\n",
    "import scipy.stats\n",
    "\n",
    "#double iteration in pandas\n",
    "from itertools import product\n",
    "\n",
    "#compute distance between two points on earth\n",
    "from haversine import haversine, haversine_vector, Unit\n",
    "\n",
    "#mapping\n",
    "import cartopy.crs as ccrs\n",
    "import cartopy.feature as cfeature\n",
    "from cartopy.io import shapereader\n",
    "from cartopy.mpl.gridliner import LONGITUDE_FORMATTER, LATITUDE_FORMATTER\n",
    "\n",
    "import gdal\n",
    "\n",
    "#colorbars\n",
    "import cmocean\n",
    "import cmaps\n",
    "\n",
    "#plotting\n",
    "import matplotlib as mpl\n",
    "import matplotlib.pyplot as plt\n",
    "import matplotlib.ticker as mticker\n",
    "import matplotlib.patches as mpatch\n",
    "import matplotlib.patches as patches\n",
    "from matplotlib.transforms import offset_copy\n",
    "import matplotlib.colors as colors\n",
    "from windrose import WindroseAxes\n",
    "import seaborn as sns; \n",
    "from matplotlib import style\n",
    "style.use('fivethirtyeight')\n",
    "\n",
    "%matplotlib inline"
   ]
  },
  {
   "cell_type": "markdown",
   "metadata": {},
   "source": [
    "## SARAL-AltiKa Data"
   ]
  },
  {
   "cell_type": "code",
   "execution_count": 2,
   "metadata": {},
   "outputs": [],
   "source": [
    "# function to remove outliers from every single along track\n",
    "\n",
    "def remove_outliers(fname):\n",
    "    \n",
    "    #read the data files\n",
    "    df2 = xr.open_dataset(fname)\n",
    "    \n",
    "    #select all the required variables to detect only the valid data\n",
    "    df2 = df2[['swh','swh_rms','surface_type','wind_speed_alt','ice_flag','sig0','off_nadir_angle_wf','sig0_rms','range_rms','swh_numval', \\\n",
    "           'swh_rms']]\n",
    "    \n",
    "    # convert to pandas dataframe\n",
    "    df2 = df2.to_dataframe()\n",
    "    df2.reset_index(inplace=True)\n",
    "    \n",
    "        # apply the filtering criteria\n",
    "    df2 = df2[(df2['surface_type'] == 0.) & (df2['ice_flag'] == 0.) & (df2['swh'] < 30.) & (df2['sig0'] < 30.) & (df2['sig0'] > 3.) \\\n",
    "            & (df2['off_nadir_angle_wf'] < 0.0625) & (df2['off_nadir_angle_wf'] > -0.2) & (df2['wind_speed_alt'] < 30) & \\\n",
    "             (df2['sig0_rms'] < 1) & (df2['range_rms'] < 0.2) & (df2['swh_numval'] > 20) & (df2['swh_rms'] < df2['swh'])]\n",
    "    \n",
    "    outliers_removed = df2\n",
    "    \n",
    "    \"\"\"\n",
    "    # remove outliers from significant wave height\n",
    "    q1 = df2['swh'].quantile(0.25)\n",
    "    q3 = df2['swh'].quantile(0.75)\n",
    "    iqr = q3-q1 #Interquartile range\n",
    "    fence_low  = q1-1.5*iqr\n",
    "    fence_high = q3+1.5*iqr\n",
    "    \n",
    "    outliers_removed = df2.loc[(df2['swh'] > fence_low) & (df2['swh'] < fence_high)]\n",
    "    \n",
    "    \n",
    "    \n",
    "    #use the standard deviation method\n",
    "    \n",
    "    # calculate summary statistics\n",
    "    data_mean, data_std = np.mean(df2['swh']), np.std(df2['swh'])\n",
    "    #identify outliers\n",
    "    cut_off = data_std * 3\n",
    "    lower, upper = data_mean - cut_off, data_mean + cut_off\n",
    "    # remove outliers\n",
    "    outliers_removed = df2.loc[(df2['swh'] > lower) & (df2['swh'] < upper)]\n",
    "    \n",
    "    \n",
    "    \n",
    "    #remove outliers from wind speed\n",
    "    q1 = df2['wind_speed_alt'].quantile(0.25)\n",
    "    q3 = df2['wind_speed_alt'].quantile(0.75)\n",
    "    iqr = q3-q1 #Interquartile range\n",
    "    fence_low  = q1-1.5*iqr\n",
    "    fence_high = q3+1.5*iqr\n",
    "    outliers_removed = df2.loc[(df2['wind_speed_alt'] > fence_low) & (df2['wind_speed_alt'] < fence_high)]\n",
    "    \n",
    "    \"\"\"\n",
    "\n",
    "    return outliers_removed"
   ]
  },
  {
   "cell_type": "code",
   "execution_count": 3,
   "metadata": {},
   "outputs": [],
   "source": [
    "# import and apply the quality control to all data files\n",
    "\n",
    "p = Path('C:/Users/panmits86/Desktop/SA_val')\n",
    "#p = Path('C:/Users/panmits86/Desktop/SA_GDR')\n",
    "#p = Path('C:/Users/panmits86/Desktop/Python/data/SARAL-AltiKa/SARAL_GDR_All')\n",
    "# iterate the process to every data file\n",
    "results = []\n",
    "for fname in p.glob('*.nc'):\n",
    "    swh_sa = remove_outliers(fname)\n",
    "    results.append(swh_sa)\n",
    "    swh_s = pd.concat(results)"
   ]
  },
  {
   "cell_type": "code",
   "execution_count": 5,
   "metadata": {},
   "outputs": [
    {
     "data": {
      "text/html": [
       "<div>\n",
       "<style scoped>\n",
       "    .dataframe tbody tr th:only-of-type {\n",
       "        vertical-align: middle;\n",
       "    }\n",
       "\n",
       "    .dataframe tbody tr th {\n",
       "        vertical-align: top;\n",
       "    }\n",
       "\n",
       "    .dataframe thead th {\n",
       "        text-align: right;\n",
       "    }\n",
       "</style>\n",
       "<table border=\"1\" class=\"dataframe\">\n",
       "  <thead>\n",
       "    <tr style=\"text-align: right;\">\n",
       "      <th></th>\n",
       "      <th>time</th>\n",
       "      <th>lon</th>\n",
       "      <th>lat</th>\n",
       "      <th>swh</th>\n",
       "      <th>wind_speed_alt</th>\n",
       "    </tr>\n",
       "  </thead>\n",
       "  <tbody>\n",
       "    <tr>\n",
       "      <th>0</th>\n",
       "      <td>2014-08-21 23:28:09.197778944</td>\n",
       "      <td>286.287362</td>\n",
       "      <td>40.555752</td>\n",
       "      <td>0.652</td>\n",
       "      <td>4.24</td>\n",
       "    </tr>\n",
       "    <tr>\n",
       "      <th>1</th>\n",
       "      <td>2014-08-21 23:28:11.270705920</td>\n",
       "      <td>286.247050</td>\n",
       "      <td>40.434171</td>\n",
       "      <td>0.829</td>\n",
       "      <td>5.36</td>\n",
       "    </tr>\n",
       "    <tr>\n",
       "      <th>2</th>\n",
       "      <td>2014-08-21 23:28:13.343635072</td>\n",
       "      <td>286.206852</td>\n",
       "      <td>40.312579</td>\n",
       "      <td>0.775</td>\n",
       "      <td>5.10</td>\n",
       "    </tr>\n",
       "    <tr>\n",
       "      <th>3</th>\n",
       "      <td>2014-08-21 23:28:14.380099072</td>\n",
       "      <td>286.186796</td>\n",
       "      <td>40.251778</td>\n",
       "      <td>0.814</td>\n",
       "      <td>5.07</td>\n",
       "    </tr>\n",
       "    <tr>\n",
       "      <th>4</th>\n",
       "      <td>2014-08-21 23:28:15.416562112</td>\n",
       "      <td>286.166767</td>\n",
       "      <td>40.190975</td>\n",
       "      <td>0.816</td>\n",
       "      <td>4.96</td>\n",
       "    </tr>\n",
       "    <tr>\n",
       "      <th>...</th>\n",
       "      <td>...</td>\n",
       "      <td>...</td>\n",
       "      <td>...</td>\n",
       "      <td>...</td>\n",
       "      <td>...</td>\n",
       "    </tr>\n",
       "    <tr>\n",
       "      <th>8484</th>\n",
       "      <td>2019-12-22 10:22:46.047041920</td>\n",
       "      <td>286.145365</td>\n",
       "      <td>40.025461</td>\n",
       "      <td>0.576</td>\n",
       "      <td>4.69</td>\n",
       "    </tr>\n",
       "    <tr>\n",
       "      <th>8485</th>\n",
       "      <td>2019-12-22 10:22:47.084560896</td>\n",
       "      <td>286.125404</td>\n",
       "      <td>40.086325</td>\n",
       "      <td>0.296</td>\n",
       "      <td>4.74</td>\n",
       "    </tr>\n",
       "    <tr>\n",
       "      <th>8486</th>\n",
       "      <td>2019-12-22 10:22:48.122082176</td>\n",
       "      <td>286.105414</td>\n",
       "      <td>40.147186</td>\n",
       "      <td>0.407</td>\n",
       "      <td>4.58</td>\n",
       "    </tr>\n",
       "    <tr>\n",
       "      <th>8487</th>\n",
       "      <td>2019-12-22 10:22:49.159601152</td>\n",
       "      <td>286.085398</td>\n",
       "      <td>40.208044</td>\n",
       "      <td>0.489</td>\n",
       "      <td>4.26</td>\n",
       "    </tr>\n",
       "    <tr>\n",
       "      <th>8488</th>\n",
       "      <td>2019-12-22 10:22:50.197122048</td>\n",
       "      <td>286.065352</td>\n",
       "      <td>40.268900</td>\n",
       "      <td>0.457</td>\n",
       "      <td>3.16</td>\n",
       "    </tr>\n",
       "  </tbody>\n",
       "</table>\n",
       "<p>8489 rows × 5 columns</p>\n",
       "</div>"
      ],
      "text/plain": [
       "                              time         lon        lat    swh  \\\n",
       "0    2014-08-21 23:28:09.197778944  286.287362  40.555752  0.652   \n",
       "1    2014-08-21 23:28:11.270705920  286.247050  40.434171  0.829   \n",
       "2    2014-08-21 23:28:13.343635072  286.206852  40.312579  0.775   \n",
       "3    2014-08-21 23:28:14.380099072  286.186796  40.251778  0.814   \n",
       "4    2014-08-21 23:28:15.416562112  286.166767  40.190975  0.816   \n",
       "...                            ...         ...        ...    ...   \n",
       "8484 2019-12-22 10:22:46.047041920  286.145365  40.025461  0.576   \n",
       "8485 2019-12-22 10:22:47.084560896  286.125404  40.086325  0.296   \n",
       "8486 2019-12-22 10:22:48.122082176  286.105414  40.147186  0.407   \n",
       "8487 2019-12-22 10:22:49.159601152  286.085398  40.208044  0.489   \n",
       "8488 2019-12-22 10:22:50.197122048  286.065352  40.268900  0.457   \n",
       "\n",
       "      wind_speed_alt  \n",
       "0               4.24  \n",
       "1               5.36  \n",
       "2               5.10  \n",
       "3               5.07  \n",
       "4               4.96  \n",
       "...              ...  \n",
       "8484            4.69  \n",
       "8485            4.74  \n",
       "8486            4.58  \n",
       "8487            4.26  \n",
       "8488            3.16  \n",
       "\n",
       "[8489 rows x 5 columns]"
      ]
     },
     "execution_count": 5,
     "metadata": {},
     "output_type": "execute_result"
    }
   ],
   "source": [
    "swh_sa = swh_s[['time','lon','lat','swh','wind_speed_alt']]\n",
    "swh_sa = swh_sa.reset_index()\n",
    "swh_sa.drop(['index'], axis=1, inplace=True)\n",
    "swh_sa "
   ]
  },
  {
   "cell_type": "markdown",
   "metadata": {},
   "source": [
    "## NDBC Buoys Data"
   ]
  },
  {
   "cell_type": "code",
   "execution_count": 6,
   "metadata": {},
   "outputs": [],
   "source": [
    "# input buoys coordinates (buoy_coords parameter)\n",
    "\n",
    "buoys = pd.read_excel('buoys.xlsx', header=0, index_col=None, usecols=\"D:E\")\n",
    "\n",
    "b44017 = (buoys['Latitude'][3],buoys['Longitude'][3]+360)\n",
    "b44025 = (buoys['Latitude'][2],buoys['Longitude'][2]+360)\n",
    "b44065 = (buoys['Latitude'][4],buoys['Longitude'][4]+360)\n",
    "b44020 = (buoys['Latitude'][1],buoys['Longitude'][1]+360)\n",
    "BUZM3 = (buoys['Latitude'][7],buoys['Longitude'][7]+360)"
   ]
  },
  {
   "cell_type": "code",
   "execution_count": 7,
   "metadata": {},
   "outputs": [],
   "source": [
    "# make a parser to include minutes, hours, days, months, years in one column and convert to datetime\n",
    "def parse(yr, mo, doy, hr, min):\n",
    "    yr, mo, doy, hr, min = [int(x) for x in [yr, mo, doy, hr, min]]\n",
    "    dt = datetime(yr - 0, mo, doy, hr, min)\n",
    "    return dt"
   ]
  },
  {
   "cell_type": "markdown",
   "metadata": {},
   "source": [
    "### Standard Meteorological data"
   ]
  },
  {
   "cell_type": "code",
   "execution_count": 24,
   "metadata": {},
   "outputs": [],
   "source": [
    "# read all buoy data files and concatenate them into one single pandas data frame and exclude wave height error values\n",
    "# input for the buoy_data parameter (e.g. b44017_wind_wave)\n",
    "\n",
    "path = r'C:/Users/panmits86/Desktop/Python/data/buoys/Station_44017_1'\n",
    "all_files = glob.glob(path + \"/*.txt\")\n",
    "\n",
    "b44017_wind_wave = pd.concat((pd.read_csv(f, delim_whitespace=True, \n",
    "                         skiprows=lambda x: x == 1, usecols=[0,1,2,3,4,6,8], header=0, date_parser=parse, \n",
    "                          parse_dates={'Date':['#YY','MM','DD','hh','mm']}) for f in all_files))\n",
    "b44017_wind_wave = b44017_wind_wave[(b44017_wind_wave.WVHT !=99) & (b44017_wind_wave.WVHT > 0.1) &\n",
    "                                   (b44017_wind_wave.WSPD !=99) & (b44017_wind_wave.WSPD > 0.1)]\n",
    "b44017_wind_wave.reset_index(inplace=True)\n",
    "b44017_wind_wave.drop('index', 1, inplace=True)\n",
    "#b44017_wind_wave['u10'] = b44017_wind_wave['WSPD']*(10/4.1)**0.11\n",
    "b44017_wind_wave['u10'] = b44017_wind_wave['WSPD']*np.sqrt((0.4**2)/0.0014)*(1/(np.log(4.1/0.000097)))"
   ]
  },
  {
   "cell_type": "markdown",
   "metadata": {},
   "source": [
    "### Continuous Winds Dataset"
   ]
  },
  {
   "cell_type": "code",
   "execution_count": 8,
   "metadata": {},
   "outputs": [],
   "source": [
    "# read all buoy data files and concatenate them into one single pandas data frame and exclude wave height error values\n",
    "# input for the buoy_data parameter (e.g. b44017_wind)\n",
    "\n",
    "path = r'C:/Users/panmits86/Desktop/Continuous_Winds/Station_44017'\n",
    "all_files = glob.glob(path + \"/*.txt\")\n",
    "\n",
    "b44017_wind = pd.concat((pd.read_csv(f, delim_whitespace=True, \n",
    "                         skiprows=lambda x: x == 1, usecols=[0,1,2,3,4,6], header=0, date_parser=parse, \n",
    "                          parse_dates={'Date':['#YY','MM','DD','hh','mm']}) for f in all_files))\n",
    "b44017_wind = b44017_wind[(b44017_wind.WSPD !=99) & (b44017_wind.WSPD > 0.1)]\n",
    "b44017_wind.reset_index(inplace=True)\n",
    "b44017_wind.drop('index', 1, inplace=True)\n",
    "#b44017_wind_wave['u10'] = b44017_wind_wave['WSPD']*(10/4.1)**0.11\n",
    "b44017_wind['u10'] = b44017_wind['WSPD']*np.sqrt((0.4**2)/0.0014)*(1/(np.log(4.1/0.000097)))"
   ]
  },
  {
   "cell_type": "code",
   "execution_count": 25,
   "metadata": {},
   "outputs": [],
   "source": [
    "# input for the buoy_time parameter\n",
    "\n",
    "b44017_time = b44017_wind_wave['Date']\n",
    "#b44025_time = b44025_wind['Date']\n",
    "#b44065_time = b44065_wind['Date']\n",
    "#BUZM3_time = BUZM3_wind['Date']\n",
    "#b44020_time = b44020_wind['Date']"
   ]
  },
  {
   "cell_type": "code",
   "execution_count": 10,
   "metadata": {},
   "outputs": [],
   "source": [
    "a1 = [(swh_sa['lat'][n], swh_sa['lon'][n]) for n in range(swh_sa.shape[0])]"
   ]
  },
  {
   "cell_type": "code",
   "execution_count": 30,
   "metadata": {},
   "outputs": [],
   "source": [
    "# Set the sampling radius in kilometers and the time window in minutes\n",
    "\n",
    "radius = 10\n",
    "time_window = 5"
   ]
  },
  {
   "cell_type": "code",
   "execution_count": null,
   "metadata": {},
   "outputs": [],
   "source": [
    "# Collocation algorithm for the continuous winds dataset\n",
    "\n",
    "def collocation(buoy_coords,radius_km,buoy_data,buoy_time,time_window_min):\n",
    "    hav5 = haversine_vector([buoy_coords]*swh_sa.shape[0],a1, Unit.KILOMETERS)\n",
    "    swh_sa['Buoy-Sat. Distance (km)'] = pd.DataFrame(hav5, columns=['Buoy-Sat. Distance (km)'])\n",
    "\n",
    "    radius = swh_sa['Buoy-Sat. Distance (km)'] < radius_km\n",
    "    colocated = swh_sa[radius]\n",
    "    colocated.reset_index(inplace=True)\n",
    "    colocated.drop('index', 1, inplace=True)\n",
    "\n",
    "    col = colocated['Buoy-Sat. Distance (km)'].to_numpy()\n",
    "\n",
    "    sat_time = colocated['time'].reset_index()\n",
    "    sat_time.drop('index', 1, inplace=True)\n",
    "    \n",
    "    b = colocated.to_numpy()\n",
    "    c = buoy_data.to_numpy()\n",
    "\n",
    "    bb1 = np.tile(b,(c.shape[0],1))\n",
    "    cc1 = np.repeat(c,b.shape[0],axis=0)\n",
    "\n",
    "    sat = sat_time['time'].to_numpy()\n",
    "    buoy = buoy_time.to_numpy()\n",
    "\n",
    "    buoy1 = buoy[:,np.newaxis]\n",
    "\n",
    "    a = sat-buoy1\n",
    "    aa = a/np.timedelta64(1,'m')\n",
    "\n",
    "    aaa = np.ravel(aa)\n",
    "    aaaa1 = aaa[:,np.newaxis]\n",
    "    \n",
    "    dd1=np.concatenate((cc1,bb1,aaaa1),axis=1)\n",
    "    \n",
    "    ddd1 = dd1[np.where(np.absolute(dd1[:,10])<time_window_min)]\n",
    "    dddd1 = pd.DataFrame(ddd1)\n",
    "    dddd1.columns = ['Buoy Time','Buoy Wind Speed', 'Buoy U10', 'SARAL-AltiKa Time', 'SARAL lon', 'SARAL lat',\n",
    "                'SARAL-AltiKa Wave Height', 'SARAL-AltiKa Wind Speed', 'Buoy-Sat. Distance (km)', 'Time Difference (min.)']\n",
    "    \n",
    "    collocated_data = dddd1\n",
    "    \n",
    "    return collocated_data"
   ]
  },
  {
   "cell_type": "code",
   "execution_count": 31,
   "metadata": {},
   "outputs": [],
   "source": [
    "# Collocation algorithm for the standard meteorological dataset\n",
    "\n",
    "def collocation(buoy_coords,radius_km,buoy_data,buoy_time,time_window_min):\n",
    "    hav5 = haversine_vector([buoy_coords]*swh_sa.shape[0],a1, Unit.KILOMETERS)\n",
    "    swh_sa['Buoy-Sat. Distance (km)'] = pd.DataFrame(hav5, columns=['Buoy-Sat. Distance (km)'])\n",
    "\n",
    "    radius = swh_sa['Buoy-Sat. Distance (km)'] < radius_km\n",
    "    colocated = swh_sa[radius]\n",
    "    colocated.reset_index(inplace=True)\n",
    "    colocated.drop('index', 1, inplace=True)\n",
    "\n",
    "    col = colocated['Buoy-Sat. Distance (km)'].to_numpy()\n",
    "\n",
    "    sat_time = colocated['time'].reset_index()\n",
    "    sat_time.drop('index', 1, inplace=True)\n",
    "    \n",
    "    b = colocated.to_numpy()\n",
    "    c = buoy_data.to_numpy()\n",
    "\n",
    "    bb1 = np.tile(b,(c.shape[0],1))\n",
    "    cc1 = np.repeat(c,b.shape[0],axis=0)\n",
    "\n",
    "    sat = sat_time['time'].to_numpy()\n",
    "    buoy = buoy_time.to_numpy()\n",
    "\n",
    "    buoy1 = buoy[:,np.newaxis]\n",
    "\n",
    "    a = sat-buoy1\n",
    "    aa = a/np.timedelta64(1,'m')\n",
    "\n",
    "    aaa = np.ravel(aa)\n",
    "    aaaa1 = aaa[:,np.newaxis]\n",
    "    \n",
    "    dd1=np.concatenate((cc1,bb1,aaaa1),axis=1)\n",
    "    \n",
    "    ddd1 = dd1[np.where(np.absolute(dd1[:,10])<time_window_min)]\n",
    "    dddd1 = pd.DataFrame(ddd1)\n",
    "    dddd1.columns = ['Buoy Time','Buoy Wind Speed','Buoy Hs', 'Buoy U10', 'SARAL-AltiKa Time', 'SARAL lon', 'SARAL lat',\n",
    "                'SARAL-AltiKa Wave Height', 'SARAL-AltiKa Wind Speed', 'Buoy-Sat. Distance (km)', 'Time Difference (min.)']\n",
    "    \n",
    "    collocated_data = dddd1\n",
    "    \n",
    "    return collocated_data"
   ]
  },
  {
   "cell_type": "code",
   "execution_count": 32,
   "metadata": {},
   "outputs": [
    {
     "name": "stderr",
     "output_type": "stream",
     "text": [
      "C:\\Users\\panmits86\\Anaconda3\\envs\\thesis\\lib\\site-packages\\pandas\\core\\frame.py:3990: SettingWithCopyWarning: \n",
      "A value is trying to be set on a copy of a slice from a DataFrame\n",
      "\n",
      "See the caveats in the documentation: https://pandas.pydata.org/pandas-docs/stable/user_guide/indexing.html#returning-a-view-versus-a-copy\n",
      "  return super().drop(\n"
     ]
    }
   ],
   "source": [
    "# final collocated data with all the parameters\n",
    "\n",
    "data = collocation(b44017,radius,b44017_wind,b44017_time,time_window)"
   ]
  },
  {
   "cell_type": "code",
   "execution_count": null,
   "metadata": {},
   "outputs": [],
   "source": [
    "# merge collocated data from different buoys (optional)\n",
    "\n",
    "merge = [data1,data2,data3,data4]\n",
    "saral_wind = pd.concat(merge)\n",
    "saral_wind"
   ]
  },
  {
   "cell_type": "markdown",
   "metadata": {},
   "source": [
    "## Regression Analysis"
   ]
  },
  {
   "cell_type": "code",
   "execution_count": 17,
   "metadata": {},
   "outputs": [],
   "source": [
    "data1 = data.set_index('Buoy Time')\n",
    "\n",
    "# select the columns that you want: [1,6] is for wind, [,] is for significant wave height data\n",
    "\n",
    "df = data1.iloc[:,[1,6]]\n",
    "#df1.reset_index(inplace=True)\n",
    "#df1.drop('index', 1, inplace=True)\n",
    "df = df.apply(pd.to_numeric, errors='coerce')\n",
    "df = df.resample('D').mean()\n",
    "df = df.dropna()"
   ]
  },
  {
   "cell_type": "code",
   "execution_count": 18,
   "metadata": {},
   "outputs": [
    {
     "data": {
      "text/plain": [
       "0.024899060139653706"
      ]
     },
     "execution_count": 18,
     "metadata": {},
     "output_type": "execute_result"
    }
   ],
   "source": [
    "# Calculate Bias \n",
    "\n",
    "df['u10 Difference'] = df['SARAL-AltiKa Wind Speed'] - df['Buoy U10']\n",
    "\n",
    "bias = abs(df[\"u10 Difference\"].sum() / len(df))\n",
    "bias"
   ]
  },
  {
   "cell_type": "code",
   "execution_count": 19,
   "metadata": {},
   "outputs": [],
   "source": [
    "# Linear Regression\n",
    "\n",
    "x = df['Buoy U10']\n",
    "\n",
    "xx = df['SARAL-AltiKa Wind Speed']\n",
    "\n",
    "model = LinearRegression(fit_intercept=True)\n",
    "\n",
    "model.fit(x[:, np.newaxis], xx)\n",
    "\n",
    "x1fit = np.linspace(0, 20, len(df))\n",
    "y1fit = model.predict(x1fit[:, np.newaxis])"
   ]
  },
  {
   "cell_type": "code",
   "execution_count": 21,
   "metadata": {},
   "outputs": [
    {
     "name": "stderr",
     "output_type": "stream",
     "text": [
      "C:\\Users\\panmits86\\Anaconda3\\envs\\thesis\\lib\\site-packages\\sklearn\\metrics\\_regression.py:582: UndefinedMetricWarning: R^2 score is not well-defined with less than two samples.\n",
      "  warnings.warn(msg, UndefinedMetricWarning)\n",
      "C:\\Users\\panmits86\\Anaconda3\\envs\\thesis\\lib\\site-packages\\sklearn\\metrics\\_regression.py:582: UndefinedMetricWarning: R^2 score is not well-defined with less than two samples.\n",
      "  warnings.warn(msg, UndefinedMetricWarning)\n",
      "C:\\Users\\panmits86\\Anaconda3\\envs\\thesis\\lib\\site-packages\\sklearn\\metrics\\_regression.py:582: UndefinedMetricWarning: R^2 score is not well-defined with less than two samples.\n",
      "  warnings.warn(msg, UndefinedMetricWarning)\n",
      "C:\\Users\\panmits86\\Anaconda3\\envs\\thesis\\lib\\site-packages\\sklearn\\metrics\\_regression.py:582: UndefinedMetricWarning: R^2 score is not well-defined with less than two samples.\n",
      "  warnings.warn(msg, UndefinedMetricWarning)\n",
      "C:\\Users\\panmits86\\Anaconda3\\envs\\thesis\\lib\\site-packages\\sklearn\\metrics\\_regression.py:582: UndefinedMetricWarning: R^2 score is not well-defined with less than two samples.\n",
      "  warnings.warn(msg, UndefinedMetricWarning)\n"
     ]
    }
   ],
   "source": [
    "# Statistics of the Regression line\n",
    "\n",
    "a=model.coef_\n",
    "b=model.intercept_\n",
    "\n",
    "scores_mean = list()\n",
    "scores_std = list()\n",
    "\n",
    "scores = cross_validate(model, x[:, np.newaxis], xx, scoring=['r2', 'neg_root_mean_squared_error'], cv=10)\n",
    "\n",
    "rsquared = np.mean(scores['test_r2'])\n",
    "rmse = -np.mean(scores['test_neg_root_mean_squared_error'])\n",
    "rmsee = np.std(scores['test_neg_root_mean_squared_error'])\n",
    "N=len(df)"
   ]
  },
  {
   "cell_type": "code",
   "execution_count": 23,
   "metadata": {},
   "outputs": [
    {
     "data": {
      "text/plain": [
       "<matplotlib.legend.Legend at 0x21be5437e20>"
      ]
     },
     "execution_count": 23,
     "metadata": {},
     "output_type": "execute_result"
    },
    {
     "data": {
      "image/png": "[encoded data removed]",
      "text/plain": [
       "<Figure size 576x576 with 1 Axes>"
      ]
     },
     "metadata": {
      "needs_background": "light"
     },
     "output_type": "display_data"
    }
   ],
   "source": [
    "# Plot the results\n",
    "\n",
    "fig, ax = plt.subplots(figsize=(8, 8))\n",
    "plt.scatter(x, xx, s=10, color='k', label='data')\n",
    "plt.plot(x1fit, y1fit, linewidth=3, linestyle='--', label='Regression Line')\n",
    "plt.plot([0, 20], [0, 20], linestyle='-', linewidth=3, color='r', alpha=0.4, label='$Y=X$')\n",
    "\n",
    "plt.xlabel('Buoy 44017 $u_{10} \\ (m/s)$', fontsize=14)\n",
    "plt.ylabel('SARAL-AltiKa $u_{10} \\ (m/s)$', fontsize=14)\n",
    "\n",
    "\"\"\"\n",
    "extra = plt.Rectangle((0, 0), 0, 0, fc=\"w\", fill=False, edgecolor='none', linewidth=0)\n",
    "ax.legend([extra], [(r'$R^2={:.2f}$' + '\\n' + r'$RMSE={:.2f} \\pm {:.2f}$').format(np.mean(scores['test_r2']),\n",
    "                                                      -np.mean(scores['test_neg_root_mean_squared_error']),\n",
    "                                                      np.std(scores['test_neg_root_mean_squared_error']))], loc='upper left')\n",
    "                                                      \n",
    "\"\"\"\n",
    "\n",
    "plt.xlabel('NDBC Buoys $u_{10}$ (m/s)', fontsize=14)\n",
    "plt.ylabel('SARAL-AltiKa $u_{10}$ (m/s)', fontsize=14)\n",
    "\n",
    "plt.xlim(0,20)\n",
    "plt.ylim(0,20)\n",
    "\n",
    "props = dict(boxstyle='square', facecolor='white', alpha=1)\n",
    "\n",
    "textstr = '\\n'.join((r'$N=%i$' % (N,), r'$R^2=%.3f$' % (rsquared,), r'$RMSE=%.3f$' % (rmse,), r'$BIAS=%.3f$' % (bias,) \n",
    "                     , r'$Y=%.3fX + %.3f$' % (a,b,)))\n",
    "\n",
    "ax.text(0.3,13,textstr,fontsize=12,bbox=props)\n",
    "\n",
    "ax.legend(loc='best')\n",
    "\n",
    "#plt.savefig('SARAL_Val_Wind_BUZM3.png', dpi=300, bbox_inches='tight')"
   ]
  },
  {
   "cell_type": "code",
   "execution_count": null,
   "metadata": {},
   "outputs": [],
   "source": []
  }
 ],
 "metadata": {
  "kernelspec": {
   "display_name": "Python 3",
   "language": "python",
   "name": "python3"
  },
  "language_info": {
   "codemirror_mode": {
    "name": "ipython",
    "version": 3
   },
   "file_extension": ".py",
   "mimetype": "text/x-python",
   "name": "python",
   "nbconvert_exporter": "python",
   "pygments_lexer": "ipython3",
   "version": "3.8.3"
  }
 },
 "nbformat": 4,
 "nbformat_minor": 4
}
